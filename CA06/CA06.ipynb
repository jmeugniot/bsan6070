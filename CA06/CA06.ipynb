{
  "nbformat": 4,
  "nbformat_minor": 0,
  "metadata": {
    "colab": {
      "name": "CA06.ipynb",
      "provenance": [],
      "collapsed_sections": [
        "rr6X7wX-PHjA",
        "Q_7dJz8qQjE6"
      ],
      "toc_visible": true,
      "authorship_tag": "ABX9TyOS4yKabH8fcnOsvPeH2+d/",
      "include_colab_link": true
    },
    "kernelspec": {
      "name": "python3",
      "display_name": "Python 3"
    },
    "language_info": {
      "name": "python"
    }
  },
  "cells": [
    {
      "cell_type": "markdown",
      "metadata": {
        "id": "view-in-github",
        "colab_type": "text"
      },
      "source": [
        "<a href=\"https://colab.research.google.com/github/jmeugniot/bsan6070/blob/main/CA06/CA06.ipynb\" target=\"_parent\"><img src=\"https://colab.research.google.com/assets/colab-badge.svg\" alt=\"Open In Colab\"/></a>"
      ]
    },
    {
      "cell_type": "markdown",
      "metadata": {
        "id": "HnULiA-JO407"
      },
      "source": [
        "# Your name: Jamie Meugniot\n",
        "## Assignment Name: CA06 - K-Nearest Neighbor\n",
        "\n",
        "###**Given a movies data set, what are the 5 most similar movies to a movie query?**"
      ]
    },
    {
      "cell_type": "markdown",
      "metadata": {
        "id": "rr6X7wX-PHjA"
      },
      "source": [
        "## Program Inititialization Section\n",
        "### Import packages"
      ]
    },
    {
      "cell_type": "code",
      "metadata": {
        "id": "p-BRI6cMPJi2"
      },
      "source": [
        "# import packages \n",
        "import numpy as np\n",
        "import pandas as pd\n",
        "from sklearn.neighbors import KNeighborsClassifier, NearestNeighbors"
      ],
      "execution_count": 7,
      "outputs": []
    },
    {
      "cell_type": "code",
      "metadata": {
        "colab": {
          "base_uri": "https://localhost:8080/",
          "height": 979
        },
        "id": "RsmFeHWpOvK1",
        "outputId": "20b26e66-4f3d-42bf-902b-43cac19b45c8"
      },
      "source": [
        "#Read in the data file\n",
        "df_movies = pd.read_csv('https://github.com/ArinB/CA05-kNN/raw/master/movies_recommendation_data.csv')\n",
        "df_movies"
      ],
      "execution_count": 8,
      "outputs": [
        {
          "output_type": "execute_result",
          "data": {
            "text/html": [
              "<div>\n",
              "<style scoped>\n",
              "    .dataframe tbody tr th:only-of-type {\n",
              "        vertical-align: middle;\n",
              "    }\n",
              "\n",
              "    .dataframe tbody tr th {\n",
              "        vertical-align: top;\n",
              "    }\n",
              "\n",
              "    .dataframe thead th {\n",
              "        text-align: right;\n",
              "    }\n",
              "</style>\n",
              "<table border=\"1\" class=\"dataframe\">\n",
              "  <thead>\n",
              "    <tr style=\"text-align: right;\">\n",
              "      <th></th>\n",
              "      <th>Movie ID</th>\n",
              "      <th>Movie Name</th>\n",
              "      <th>IMDB Rating</th>\n",
              "      <th>Biography</th>\n",
              "      <th>Drama</th>\n",
              "      <th>Thriller</th>\n",
              "      <th>Comedy</th>\n",
              "      <th>Crime</th>\n",
              "      <th>Mystery</th>\n",
              "      <th>History</th>\n",
              "      <th>Label</th>\n",
              "    </tr>\n",
              "  </thead>\n",
              "  <tbody>\n",
              "    <tr>\n",
              "      <th>0</th>\n",
              "      <td>58</td>\n",
              "      <td>The Imitation Game</td>\n",
              "      <td>8.0</td>\n",
              "      <td>1</td>\n",
              "      <td>1</td>\n",
              "      <td>1</td>\n",
              "      <td>0</td>\n",
              "      <td>0</td>\n",
              "      <td>0</td>\n",
              "      <td>0</td>\n",
              "      <td>0</td>\n",
              "    </tr>\n",
              "    <tr>\n",
              "      <th>1</th>\n",
              "      <td>8</td>\n",
              "      <td>Ex Machina</td>\n",
              "      <td>7.7</td>\n",
              "      <td>0</td>\n",
              "      <td>1</td>\n",
              "      <td>0</td>\n",
              "      <td>0</td>\n",
              "      <td>0</td>\n",
              "      <td>1</td>\n",
              "      <td>0</td>\n",
              "      <td>0</td>\n",
              "    </tr>\n",
              "    <tr>\n",
              "      <th>2</th>\n",
              "      <td>46</td>\n",
              "      <td>A Beautiful Mind</td>\n",
              "      <td>8.2</td>\n",
              "      <td>1</td>\n",
              "      <td>1</td>\n",
              "      <td>0</td>\n",
              "      <td>0</td>\n",
              "      <td>0</td>\n",
              "      <td>0</td>\n",
              "      <td>0</td>\n",
              "      <td>0</td>\n",
              "    </tr>\n",
              "    <tr>\n",
              "      <th>3</th>\n",
              "      <td>62</td>\n",
              "      <td>Good Will Hunting</td>\n",
              "      <td>8.3</td>\n",
              "      <td>0</td>\n",
              "      <td>1</td>\n",
              "      <td>0</td>\n",
              "      <td>0</td>\n",
              "      <td>0</td>\n",
              "      <td>0</td>\n",
              "      <td>0</td>\n",
              "      <td>0</td>\n",
              "    </tr>\n",
              "    <tr>\n",
              "      <th>4</th>\n",
              "      <td>97</td>\n",
              "      <td>Forrest Gump</td>\n",
              "      <td>8.8</td>\n",
              "      <td>0</td>\n",
              "      <td>1</td>\n",
              "      <td>0</td>\n",
              "      <td>0</td>\n",
              "      <td>0</td>\n",
              "      <td>0</td>\n",
              "      <td>0</td>\n",
              "      <td>0</td>\n",
              "    </tr>\n",
              "    <tr>\n",
              "      <th>5</th>\n",
              "      <td>98</td>\n",
              "      <td>21</td>\n",
              "      <td>6.8</td>\n",
              "      <td>0</td>\n",
              "      <td>1</td>\n",
              "      <td>0</td>\n",
              "      <td>0</td>\n",
              "      <td>1</td>\n",
              "      <td>0</td>\n",
              "      <td>1</td>\n",
              "      <td>0</td>\n",
              "    </tr>\n",
              "    <tr>\n",
              "      <th>6</th>\n",
              "      <td>31</td>\n",
              "      <td>Gifted</td>\n",
              "      <td>7.6</td>\n",
              "      <td>0</td>\n",
              "      <td>1</td>\n",
              "      <td>0</td>\n",
              "      <td>0</td>\n",
              "      <td>0</td>\n",
              "      <td>0</td>\n",
              "      <td>0</td>\n",
              "      <td>0</td>\n",
              "    </tr>\n",
              "    <tr>\n",
              "      <th>7</th>\n",
              "      <td>3</td>\n",
              "      <td>Travelling Salesman</td>\n",
              "      <td>5.9</td>\n",
              "      <td>0</td>\n",
              "      <td>1</td>\n",
              "      <td>0</td>\n",
              "      <td>0</td>\n",
              "      <td>0</td>\n",
              "      <td>1</td>\n",
              "      <td>0</td>\n",
              "      <td>0</td>\n",
              "    </tr>\n",
              "    <tr>\n",
              "      <th>8</th>\n",
              "      <td>51</td>\n",
              "      <td>Avatar</td>\n",
              "      <td>7.9</td>\n",
              "      <td>0</td>\n",
              "      <td>0</td>\n",
              "      <td>0</td>\n",
              "      <td>0</td>\n",
              "      <td>0</td>\n",
              "      <td>0</td>\n",
              "      <td>0</td>\n",
              "      <td>0</td>\n",
              "    </tr>\n",
              "    <tr>\n",
              "      <th>9</th>\n",
              "      <td>47</td>\n",
              "      <td>The Karate Kid</td>\n",
              "      <td>7.2</td>\n",
              "      <td>0</td>\n",
              "      <td>1</td>\n",
              "      <td>0</td>\n",
              "      <td>0</td>\n",
              "      <td>0</td>\n",
              "      <td>0</td>\n",
              "      <td>0</td>\n",
              "      <td>0</td>\n",
              "    </tr>\n",
              "    <tr>\n",
              "      <th>10</th>\n",
              "      <td>50</td>\n",
              "      <td>A Brilliant Young Mind</td>\n",
              "      <td>7.2</td>\n",
              "      <td>0</td>\n",
              "      <td>1</td>\n",
              "      <td>0</td>\n",
              "      <td>0</td>\n",
              "      <td>0</td>\n",
              "      <td>0</td>\n",
              "      <td>0</td>\n",
              "      <td>0</td>\n",
              "    </tr>\n",
              "    <tr>\n",
              "      <th>11</th>\n",
              "      <td>49</td>\n",
              "      <td>A Time To Kill</td>\n",
              "      <td>7.4</td>\n",
              "      <td>0</td>\n",
              "      <td>1</td>\n",
              "      <td>1</td>\n",
              "      <td>0</td>\n",
              "      <td>1</td>\n",
              "      <td>0</td>\n",
              "      <td>0</td>\n",
              "      <td>0</td>\n",
              "    </tr>\n",
              "    <tr>\n",
              "      <th>12</th>\n",
              "      <td>30</td>\n",
              "      <td>Interstellar</td>\n",
              "      <td>8.6</td>\n",
              "      <td>0</td>\n",
              "      <td>1</td>\n",
              "      <td>0</td>\n",
              "      <td>0</td>\n",
              "      <td>0</td>\n",
              "      <td>0</td>\n",
              "      <td>0</td>\n",
              "      <td>0</td>\n",
              "    </tr>\n",
              "    <tr>\n",
              "      <th>13</th>\n",
              "      <td>94</td>\n",
              "      <td>The Wolf of Wall Street</td>\n",
              "      <td>8.2</td>\n",
              "      <td>1</td>\n",
              "      <td>0</td>\n",
              "      <td>0</td>\n",
              "      <td>1</td>\n",
              "      <td>1</td>\n",
              "      <td>0</td>\n",
              "      <td>0</td>\n",
              "      <td>0</td>\n",
              "    </tr>\n",
              "    <tr>\n",
              "      <th>14</th>\n",
              "      <td>6</td>\n",
              "      <td>Black Panther</td>\n",
              "      <td>7.4</td>\n",
              "      <td>0</td>\n",
              "      <td>0</td>\n",
              "      <td>0</td>\n",
              "      <td>0</td>\n",
              "      <td>0</td>\n",
              "      <td>0</td>\n",
              "      <td>0</td>\n",
              "      <td>0</td>\n",
              "    </tr>\n",
              "    <tr>\n",
              "      <th>15</th>\n",
              "      <td>73</td>\n",
              "      <td>Inception</td>\n",
              "      <td>8.8</td>\n",
              "      <td>0</td>\n",
              "      <td>0</td>\n",
              "      <td>0</td>\n",
              "      <td>0</td>\n",
              "      <td>0</td>\n",
              "      <td>0</td>\n",
              "      <td>0</td>\n",
              "      <td>0</td>\n",
              "    </tr>\n",
              "    <tr>\n",
              "      <th>16</th>\n",
              "      <td>44</td>\n",
              "      <td>The Wind Rises</td>\n",
              "      <td>7.8</td>\n",
              "      <td>1</td>\n",
              "      <td>1</td>\n",
              "      <td>0</td>\n",
              "      <td>0</td>\n",
              "      <td>0</td>\n",
              "      <td>0</td>\n",
              "      <td>0</td>\n",
              "      <td>0</td>\n",
              "    </tr>\n",
              "    <tr>\n",
              "      <th>17</th>\n",
              "      <td>65</td>\n",
              "      <td>Spirited Away</td>\n",
              "      <td>8.6</td>\n",
              "      <td>0</td>\n",
              "      <td>0</td>\n",
              "      <td>0</td>\n",
              "      <td>0</td>\n",
              "      <td>0</td>\n",
              "      <td>0</td>\n",
              "      <td>0</td>\n",
              "      <td>0</td>\n",
              "    </tr>\n",
              "    <tr>\n",
              "      <th>18</th>\n",
              "      <td>48</td>\n",
              "      <td>Finding Forrester</td>\n",
              "      <td>7.3</td>\n",
              "      <td>0</td>\n",
              "      <td>1</td>\n",
              "      <td>0</td>\n",
              "      <td>0</td>\n",
              "      <td>0</td>\n",
              "      <td>0</td>\n",
              "      <td>0</td>\n",
              "      <td>0</td>\n",
              "    </tr>\n",
              "    <tr>\n",
              "      <th>19</th>\n",
              "      <td>27</td>\n",
              "      <td>The Fountain</td>\n",
              "      <td>7.3</td>\n",
              "      <td>0</td>\n",
              "      <td>0</td>\n",
              "      <td>0</td>\n",
              "      <td>0</td>\n",
              "      <td>0</td>\n",
              "      <td>0</td>\n",
              "      <td>0</td>\n",
              "      <td>0</td>\n",
              "    </tr>\n",
              "    <tr>\n",
              "      <th>20</th>\n",
              "      <td>57</td>\n",
              "      <td>The DaVinci Code</td>\n",
              "      <td>6.6</td>\n",
              "      <td>0</td>\n",
              "      <td>0</td>\n",
              "      <td>1</td>\n",
              "      <td>0</td>\n",
              "      <td>0</td>\n",
              "      <td>1</td>\n",
              "      <td>0</td>\n",
              "      <td>0</td>\n",
              "    </tr>\n",
              "    <tr>\n",
              "      <th>21</th>\n",
              "      <td>57</td>\n",
              "      <td>Stand and Deliver</td>\n",
              "      <td>7.3</td>\n",
              "      <td>0</td>\n",
              "      <td>1</td>\n",
              "      <td>0</td>\n",
              "      <td>0</td>\n",
              "      <td>0</td>\n",
              "      <td>0</td>\n",
              "      <td>0</td>\n",
              "      <td>0</td>\n",
              "    </tr>\n",
              "    <tr>\n",
              "      <th>22</th>\n",
              "      <td>14</td>\n",
              "      <td>The Terminator</td>\n",
              "      <td>8.0</td>\n",
              "      <td>0</td>\n",
              "      <td>0</td>\n",
              "      <td>0</td>\n",
              "      <td>0</td>\n",
              "      <td>0</td>\n",
              "      <td>0</td>\n",
              "      <td>0</td>\n",
              "      <td>0</td>\n",
              "    </tr>\n",
              "    <tr>\n",
              "      <th>23</th>\n",
              "      <td>69</td>\n",
              "      <td>21 Jump Street</td>\n",
              "      <td>7.2</td>\n",
              "      <td>0</td>\n",
              "      <td>0</td>\n",
              "      <td>0</td>\n",
              "      <td>1</td>\n",
              "      <td>1</td>\n",
              "      <td>0</td>\n",
              "      <td>0</td>\n",
              "      <td>0</td>\n",
              "    </tr>\n",
              "    <tr>\n",
              "      <th>24</th>\n",
              "      <td>98</td>\n",
              "      <td>The Avengers</td>\n",
              "      <td>8.1</td>\n",
              "      <td>0</td>\n",
              "      <td>0</td>\n",
              "      <td>0</td>\n",
              "      <td>0</td>\n",
              "      <td>0</td>\n",
              "      <td>0</td>\n",
              "      <td>0</td>\n",
              "      <td>0</td>\n",
              "    </tr>\n",
              "    <tr>\n",
              "      <th>25</th>\n",
              "      <td>17</td>\n",
              "      <td>Thor: Ragnarok</td>\n",
              "      <td>7.9</td>\n",
              "      <td>0</td>\n",
              "      <td>0</td>\n",
              "      <td>0</td>\n",
              "      <td>1</td>\n",
              "      <td>0</td>\n",
              "      <td>0</td>\n",
              "      <td>0</td>\n",
              "      <td>0</td>\n",
              "    </tr>\n",
              "    <tr>\n",
              "      <th>26</th>\n",
              "      <td>12</td>\n",
              "      <td>Spirit: Stallion of the Cimarron</td>\n",
              "      <td>7.1</td>\n",
              "      <td>0</td>\n",
              "      <td>0</td>\n",
              "      <td>0</td>\n",
              "      <td>0</td>\n",
              "      <td>0</td>\n",
              "      <td>0</td>\n",
              "      <td>0</td>\n",
              "      <td>0</td>\n",
              "    </tr>\n",
              "    <tr>\n",
              "      <th>27</th>\n",
              "      <td>1</td>\n",
              "      <td>Hacksaw Ridge</td>\n",
              "      <td>8.2</td>\n",
              "      <td>1</td>\n",
              "      <td>1</td>\n",
              "      <td>0</td>\n",
              "      <td>0</td>\n",
              "      <td>0</td>\n",
              "      <td>0</td>\n",
              "      <td>1</td>\n",
              "      <td>0</td>\n",
              "    </tr>\n",
              "    <tr>\n",
              "      <th>28</th>\n",
              "      <td>86</td>\n",
              "      <td>12 Years a Slave</td>\n",
              "      <td>8.1</td>\n",
              "      <td>1</td>\n",
              "      <td>1</td>\n",
              "      <td>0</td>\n",
              "      <td>0</td>\n",
              "      <td>0</td>\n",
              "      <td>0</td>\n",
              "      <td>1</td>\n",
              "      <td>0</td>\n",
              "    </tr>\n",
              "    <tr>\n",
              "      <th>29</th>\n",
              "      <td>46</td>\n",
              "      <td>Queen of Katwe</td>\n",
              "      <td>7.4</td>\n",
              "      <td>1</td>\n",
              "      <td>1</td>\n",
              "      <td>0</td>\n",
              "      <td>0</td>\n",
              "      <td>0</td>\n",
              "      <td>0</td>\n",
              "      <td>0</td>\n",
              "      <td>0</td>\n",
              "    </tr>\n",
              "  </tbody>\n",
              "</table>\n",
              "</div>"
            ],
            "text/plain": [
              "    Movie ID                        Movie Name  ...  History  Label\n",
              "0         58                The Imitation Game  ...        0      0\n",
              "1          8                        Ex Machina  ...        0      0\n",
              "2         46                  A Beautiful Mind  ...        0      0\n",
              "3         62                 Good Will Hunting  ...        0      0\n",
              "4         97                      Forrest Gump  ...        0      0\n",
              "5         98                                21  ...        1      0\n",
              "6         31                            Gifted  ...        0      0\n",
              "7          3               Travelling Salesman  ...        0      0\n",
              "8         51                            Avatar  ...        0      0\n",
              "9         47                    The Karate Kid  ...        0      0\n",
              "10        50            A Brilliant Young Mind  ...        0      0\n",
              "11        49                    A Time To Kill  ...        0      0\n",
              "12        30                      Interstellar  ...        0      0\n",
              "13        94           The Wolf of Wall Street  ...        0      0\n",
              "14         6                     Black Panther  ...        0      0\n",
              "15        73                         Inception  ...        0      0\n",
              "16        44                    The Wind Rises  ...        0      0\n",
              "17        65                     Spirited Away  ...        0      0\n",
              "18        48                 Finding Forrester  ...        0      0\n",
              "19        27                      The Fountain  ...        0      0\n",
              "20        57                  The DaVinci Code  ...        0      0\n",
              "21        57                 Stand and Deliver  ...        0      0\n",
              "22        14                    The Terminator  ...        0      0\n",
              "23        69                    21 Jump Street  ...        0      0\n",
              "24        98                      The Avengers  ...        0      0\n",
              "25        17                    Thor: Ragnarok  ...        0      0\n",
              "26        12  Spirit: Stallion of the Cimarron  ...        0      0\n",
              "27         1                     Hacksaw Ridge  ...        1      0\n",
              "28        86                  12 Years a Slave  ...        1      0\n",
              "29        46                    Queen of Katwe  ...        0      0\n",
              "\n",
              "[30 rows x 11 columns]"
            ]
          },
          "metadata": {
            "tags": []
          },
          "execution_count": 8
        }
      ]
    },
    {
      "cell_type": "markdown",
      "metadata": {
        "id": "Q_7dJz8qQjE6"
      },
      "source": [
        "##Exploratory Analysis"
      ]
    },
    {
      "cell_type": "code",
      "metadata": {
        "colab": {
          "base_uri": "https://localhost:8080/",
          "height": 0
        },
        "id": "do6ofSbA1721",
        "outputId": "144bd752-6eaa-4d57-a5a1-ad7cd27e7a98"
      },
      "source": [
        "#Describe the dataframe\n",
        "df_movies.describe()"
      ],
      "execution_count": 22,
      "outputs": [
        {
          "output_type": "execute_result",
          "data": {
            "text/html": [
              "<div>\n",
              "<style scoped>\n",
              "    .dataframe tbody tr th:only-of-type {\n",
              "        vertical-align: middle;\n",
              "    }\n",
              "\n",
              "    .dataframe tbody tr th {\n",
              "        vertical-align: top;\n",
              "    }\n",
              "\n",
              "    .dataframe thead th {\n",
              "        text-align: right;\n",
              "    }\n",
              "</style>\n",
              "<table border=\"1\" class=\"dataframe\">\n",
              "  <thead>\n",
              "    <tr style=\"text-align: right;\">\n",
              "      <th></th>\n",
              "      <th>Movie ID</th>\n",
              "      <th>IMDB Rating</th>\n",
              "      <th>Biography</th>\n",
              "      <th>Drama</th>\n",
              "      <th>Thriller</th>\n",
              "      <th>Comedy</th>\n",
              "      <th>Crime</th>\n",
              "      <th>Mystery</th>\n",
              "      <th>History</th>\n",
              "      <th>Label</th>\n",
              "    </tr>\n",
              "  </thead>\n",
              "  <tbody>\n",
              "    <tr>\n",
              "      <th>count</th>\n",
              "      <td>30.000000</td>\n",
              "      <td>30.000000</td>\n",
              "      <td>30.000000</td>\n",
              "      <td>30.000000</td>\n",
              "      <td>30.000000</td>\n",
              "      <td>30.000000</td>\n",
              "      <td>30.000000</td>\n",
              "      <td>30.000000</td>\n",
              "      <td>30.000000</td>\n",
              "      <td>30.0</td>\n",
              "    </tr>\n",
              "    <tr>\n",
              "      <th>mean</th>\n",
              "      <td>48.133333</td>\n",
              "      <td>7.696667</td>\n",
              "      <td>0.233333</td>\n",
              "      <td>0.600000</td>\n",
              "      <td>0.100000</td>\n",
              "      <td>0.100000</td>\n",
              "      <td>0.133333</td>\n",
              "      <td>0.100000</td>\n",
              "      <td>0.100000</td>\n",
              "      <td>0.0</td>\n",
              "    </tr>\n",
              "    <tr>\n",
              "      <th>std</th>\n",
              "      <td>29.288969</td>\n",
              "      <td>0.666169</td>\n",
              "      <td>0.430183</td>\n",
              "      <td>0.498273</td>\n",
              "      <td>0.305129</td>\n",
              "      <td>0.305129</td>\n",
              "      <td>0.345746</td>\n",
              "      <td>0.305129</td>\n",
              "      <td>0.305129</td>\n",
              "      <td>0.0</td>\n",
              "    </tr>\n",
              "    <tr>\n",
              "      <th>min</th>\n",
              "      <td>1.000000</td>\n",
              "      <td>5.900000</td>\n",
              "      <td>0.000000</td>\n",
              "      <td>0.000000</td>\n",
              "      <td>0.000000</td>\n",
              "      <td>0.000000</td>\n",
              "      <td>0.000000</td>\n",
              "      <td>0.000000</td>\n",
              "      <td>0.000000</td>\n",
              "      <td>0.0</td>\n",
              "    </tr>\n",
              "    <tr>\n",
              "      <th>25%</th>\n",
              "      <td>27.750000</td>\n",
              "      <td>7.300000</td>\n",
              "      <td>0.000000</td>\n",
              "      <td>0.000000</td>\n",
              "      <td>0.000000</td>\n",
              "      <td>0.000000</td>\n",
              "      <td>0.000000</td>\n",
              "      <td>0.000000</td>\n",
              "      <td>0.000000</td>\n",
              "      <td>0.0</td>\n",
              "    </tr>\n",
              "    <tr>\n",
              "      <th>50%</th>\n",
              "      <td>48.500000</td>\n",
              "      <td>7.750000</td>\n",
              "      <td>0.000000</td>\n",
              "      <td>1.000000</td>\n",
              "      <td>0.000000</td>\n",
              "      <td>0.000000</td>\n",
              "      <td>0.000000</td>\n",
              "      <td>0.000000</td>\n",
              "      <td>0.000000</td>\n",
              "      <td>0.0</td>\n",
              "    </tr>\n",
              "    <tr>\n",
              "      <th>75%</th>\n",
              "      <td>64.250000</td>\n",
              "      <td>8.175000</td>\n",
              "      <td>0.000000</td>\n",
              "      <td>1.000000</td>\n",
              "      <td>0.000000</td>\n",
              "      <td>0.000000</td>\n",
              "      <td>0.000000</td>\n",
              "      <td>0.000000</td>\n",
              "      <td>0.000000</td>\n",
              "      <td>0.0</td>\n",
              "    </tr>\n",
              "    <tr>\n",
              "      <th>max</th>\n",
              "      <td>98.000000</td>\n",
              "      <td>8.800000</td>\n",
              "      <td>1.000000</td>\n",
              "      <td>1.000000</td>\n",
              "      <td>1.000000</td>\n",
              "      <td>1.000000</td>\n",
              "      <td>1.000000</td>\n",
              "      <td>1.000000</td>\n",
              "      <td>1.000000</td>\n",
              "      <td>0.0</td>\n",
              "    </tr>\n",
              "  </tbody>\n",
              "</table>\n",
              "</div>"
            ],
            "text/plain": [
              "        Movie ID  IMDB Rating  Biography  ...    Mystery    History  Label\n",
              "count  30.000000    30.000000  30.000000  ...  30.000000  30.000000   30.0\n",
              "mean   48.133333     7.696667   0.233333  ...   0.100000   0.100000    0.0\n",
              "std    29.288969     0.666169   0.430183  ...   0.305129   0.305129    0.0\n",
              "min     1.000000     5.900000   0.000000  ...   0.000000   0.000000    0.0\n",
              "25%    27.750000     7.300000   0.000000  ...   0.000000   0.000000    0.0\n",
              "50%    48.500000     7.750000   0.000000  ...   0.000000   0.000000    0.0\n",
              "75%    64.250000     8.175000   0.000000  ...   0.000000   0.000000    0.0\n",
              "max    98.000000     8.800000   1.000000  ...   1.000000   1.000000    0.0\n",
              "\n",
              "[8 rows x 10 columns]"
            ]
          },
          "metadata": {
            "tags": []
          },
          "execution_count": 22
        }
      ]
    },
    {
      "cell_type": "code",
      "metadata": {
        "colab": {
          "base_uri": "https://localhost:8080/"
        },
        "id": "N1kPRlz3Qs8V",
        "outputId": "a6a3d487-75a3-42ad-de72-bf20204aa2a8"
      },
      "source": [
        "#Descriptive Statistics\n",
        "df_movies.info()"
      ],
      "execution_count": 23,
      "outputs": [
        {
          "output_type": "stream",
          "text": [
            "<class 'pandas.core.frame.DataFrame'>\n",
            "RangeIndex: 30 entries, 0 to 29\n",
            "Data columns (total 11 columns):\n",
            " #   Column       Non-Null Count  Dtype  \n",
            "---  ------       --------------  -----  \n",
            " 0   Movie ID     30 non-null     int64  \n",
            " 1   Movie Name   30 non-null     object \n",
            " 2   IMDB Rating  30 non-null     float64\n",
            " 3   Biography    30 non-null     int64  \n",
            " 4   Drama        30 non-null     int64  \n",
            " 5   Thriller     30 non-null     int64  \n",
            " 6   Comedy       30 non-null     int64  \n",
            " 7   Crime        30 non-null     int64  \n",
            " 8   Mystery      30 non-null     int64  \n",
            " 9   History      30 non-null     int64  \n",
            " 10  Label        30 non-null     int64  \n",
            "dtypes: float64(1), int64(9), object(1)\n",
            "memory usage: 2.7+ KB\n"
          ],
          "name": "stdout"
        }
      ]
    },
    {
      "cell_type": "code",
      "metadata": {
        "colab": {
          "base_uri": "https://localhost:8080/"
        },
        "id": "Le709hF_REXR",
        "outputId": "e89c44f8-3c2f-4585-bd78-f458a3d32242"
      },
      "source": [
        "#Total Rows & Columns\n",
        "df_movies.shape"
      ],
      "execution_count": 24,
      "outputs": [
        {
          "output_type": "execute_result",
          "data": {
            "text/plain": [
              "(30, 11)"
            ]
          },
          "metadata": {
            "tags": []
          },
          "execution_count": 24
        }
      ]
    },
    {
      "cell_type": "code",
      "metadata": {
        "colab": {
          "base_uri": "https://localhost:8080/"
        },
        "id": "i3zfKSJP2Pkx",
        "outputId": "cc1348a3-1ddf-4b15-934a-fecdb972023b"
      },
      "source": [
        "#Count of non-null values\n",
        "df_movies.count()"
      ],
      "execution_count": 25,
      "outputs": [
        {
          "output_type": "execute_result",
          "data": {
            "text/plain": [
              "Movie ID       30\n",
              "Movie Name     30\n",
              "IMDB Rating    30\n",
              "Biography      30\n",
              "Drama          30\n",
              "Thriller       30\n",
              "Comedy         30\n",
              "Crime          30\n",
              "Mystery        30\n",
              "History        30\n",
              "Label          30\n",
              "dtype: int64"
            ]
          },
          "metadata": {
            "tags": []
          },
          "execution_count": 25
        }
      ]
    },
    {
      "cell_type": "code",
      "metadata": {
        "colab": {
          "base_uri": "https://localhost:8080/"
        },
        "id": "BEjQaZO02TNw",
        "outputId": "29e3d64f-3547-4ad6-bb89-7dbe610372b2"
      },
      "source": [
        "#Count of null values\n",
        "df_movies.isnull().sum()"
      ],
      "execution_count": 26,
      "outputs": [
        {
          "output_type": "execute_result",
          "data": {
            "text/plain": [
              "Movie ID       0\n",
              "Movie Name     0\n",
              "IMDB Rating    0\n",
              "Biography      0\n",
              "Drama          0\n",
              "Thriller       0\n",
              "Comedy         0\n",
              "Crime          0\n",
              "Mystery        0\n",
              "History        0\n",
              "Label          0\n",
              "dtype: int64"
            ]
          },
          "metadata": {
            "tags": []
          },
          "execution_count": 26
        }
      ]
    },
    {
      "cell_type": "code",
      "metadata": {
        "colab": {
          "base_uri": "https://localhost:8080/",
          "height": 0
        },
        "id": "DffnYKyg2y0S",
        "outputId": "9133b97d-0119-4d09-c8ff-53b8493c51f6"
      },
      "source": [
        "#Top & Bottom Records\n",
        "df_movies.head()\n",
        "df_movies.tail()"
      ],
      "execution_count": 27,
      "outputs": [
        {
          "output_type": "execute_result",
          "data": {
            "text/html": [
              "<div>\n",
              "<style scoped>\n",
              "    .dataframe tbody tr th:only-of-type {\n",
              "        vertical-align: middle;\n",
              "    }\n",
              "\n",
              "    .dataframe tbody tr th {\n",
              "        vertical-align: top;\n",
              "    }\n",
              "\n",
              "    .dataframe thead th {\n",
              "        text-align: right;\n",
              "    }\n",
              "</style>\n",
              "<table border=\"1\" class=\"dataframe\">\n",
              "  <thead>\n",
              "    <tr style=\"text-align: right;\">\n",
              "      <th></th>\n",
              "      <th>Movie ID</th>\n",
              "      <th>Movie Name</th>\n",
              "      <th>IMDB Rating</th>\n",
              "      <th>Biography</th>\n",
              "      <th>Drama</th>\n",
              "      <th>Thriller</th>\n",
              "      <th>Comedy</th>\n",
              "      <th>Crime</th>\n",
              "      <th>Mystery</th>\n",
              "      <th>History</th>\n",
              "      <th>Label</th>\n",
              "    </tr>\n",
              "  </thead>\n",
              "  <tbody>\n",
              "    <tr>\n",
              "      <th>25</th>\n",
              "      <td>17</td>\n",
              "      <td>Thor: Ragnarok</td>\n",
              "      <td>7.9</td>\n",
              "      <td>0</td>\n",
              "      <td>0</td>\n",
              "      <td>0</td>\n",
              "      <td>1</td>\n",
              "      <td>0</td>\n",
              "      <td>0</td>\n",
              "      <td>0</td>\n",
              "      <td>0</td>\n",
              "    </tr>\n",
              "    <tr>\n",
              "      <th>26</th>\n",
              "      <td>12</td>\n",
              "      <td>Spirit: Stallion of the Cimarron</td>\n",
              "      <td>7.1</td>\n",
              "      <td>0</td>\n",
              "      <td>0</td>\n",
              "      <td>0</td>\n",
              "      <td>0</td>\n",
              "      <td>0</td>\n",
              "      <td>0</td>\n",
              "      <td>0</td>\n",
              "      <td>0</td>\n",
              "    </tr>\n",
              "    <tr>\n",
              "      <th>27</th>\n",
              "      <td>1</td>\n",
              "      <td>Hacksaw Ridge</td>\n",
              "      <td>8.2</td>\n",
              "      <td>1</td>\n",
              "      <td>1</td>\n",
              "      <td>0</td>\n",
              "      <td>0</td>\n",
              "      <td>0</td>\n",
              "      <td>0</td>\n",
              "      <td>1</td>\n",
              "      <td>0</td>\n",
              "    </tr>\n",
              "    <tr>\n",
              "      <th>28</th>\n",
              "      <td>86</td>\n",
              "      <td>12 Years a Slave</td>\n",
              "      <td>8.1</td>\n",
              "      <td>1</td>\n",
              "      <td>1</td>\n",
              "      <td>0</td>\n",
              "      <td>0</td>\n",
              "      <td>0</td>\n",
              "      <td>0</td>\n",
              "      <td>1</td>\n",
              "      <td>0</td>\n",
              "    </tr>\n",
              "    <tr>\n",
              "      <th>29</th>\n",
              "      <td>46</td>\n",
              "      <td>Queen of Katwe</td>\n",
              "      <td>7.4</td>\n",
              "      <td>1</td>\n",
              "      <td>1</td>\n",
              "      <td>0</td>\n",
              "      <td>0</td>\n",
              "      <td>0</td>\n",
              "      <td>0</td>\n",
              "      <td>0</td>\n",
              "      <td>0</td>\n",
              "    </tr>\n",
              "  </tbody>\n",
              "</table>\n",
              "</div>"
            ],
            "text/plain": [
              "    Movie ID                        Movie Name  ...  History  Label\n",
              "25        17                    Thor: Ragnarok  ...        0      0\n",
              "26        12  Spirit: Stallion of the Cimarron  ...        0      0\n",
              "27         1                     Hacksaw Ridge  ...        1      0\n",
              "28        86                  12 Years a Slave  ...        1      0\n",
              "29        46                    Queen of Katwe  ...        0      0\n",
              "\n",
              "[5 rows x 11 columns]"
            ]
          },
          "metadata": {
            "tags": []
          },
          "execution_count": 27
        }
      ]
    },
    {
      "cell_type": "markdown",
      "metadata": {
        "id": "YORjJn_A3x21"
      },
      "source": [
        "**Cleaning the Data**"
      ]
    },
    {
      "cell_type": "code",
      "metadata": {
        "id": "vxfbPpDURLhF"
      },
      "source": [
        "#Drop 'label' column, it is not needed\n",
        "df_movies.drop('Label',axis= 1,inplace=True)"
      ],
      "execution_count": 28,
      "outputs": []
    },
    {
      "cell_type": "markdown",
      "metadata": {
        "id": "rDIC-Bm2QtWh"
      },
      "source": [
        "##K Neareast Neighbor for Recommendation System"
      ]
    },
    {
      "cell_type": "code",
      "metadata": {
        "colab": {
          "base_uri": "https://localhost:8080/"
        },
        "id": "0zvu12lHSRLZ",
        "outputId": "53dc5fae-9ad9-44f9-f2bf-1ab1ef700d34"
      },
      "source": [
        "#Display final columns\n",
        "df_movies.columns"
      ],
      "execution_count": 13,
      "outputs": [
        {
          "output_type": "execute_result",
          "data": {
            "text/plain": [
              "Index(['Movie ID', 'Movie Name', 'IMDB Rating', 'Biography', 'Drama',\n",
              "       'Thriller', 'Comedy', 'Crime', 'Mystery', 'History'],\n",
              "      dtype='object')"
            ]
          },
          "metadata": {
            "tags": []
          },
          "execution_count": 13
        }
      ]
    },
    {
      "cell_type": "code",
      "metadata": {
        "id": "6cWCm96fSX1r"
      },
      "source": [
        "#Set feature columns as variable 'x'\n",
        "x = df_movies[['IMDB Rating', 'Biography', 'Drama','Thriller', 'Comedy', 'Crime', 'Mystery', 'History']]\n",
        "\n",
        "#Set class column as variable 'y'\n",
        "y = df_movies['Movie Name']"
      ],
      "execution_count": 9,
      "outputs": []
    },
    {
      "cell_type": "code",
      "metadata": {
        "colab": {
          "base_uri": "https://localhost:8080/"
        },
        "id": "lMLaIS85IlQu",
        "outputId": "de6bbcc4-0743-459a-b8e9-02dc1e6f7a66"
      },
      "source": [
        "#K-Nearest Neighbors & Fitting the Model\n",
        "knn = NearestNeighbors(n_neighbors=5)\n",
        "\n",
        "# fitting the model\n",
        "knn.fit(x,y)"
      ],
      "execution_count": 10,
      "outputs": [
        {
          "output_type": "execute_result",
          "data": {
            "text/plain": [
              "NearestNeighbors(algorithm='auto', leaf_size=30, metric='minkowski',\n",
              "                 metric_params=None, n_jobs=None, n_neighbors=5, p=2,\n",
              "                 radius=1.0)"
            ]
          },
          "metadata": {
            "tags": []
          },
          "execution_count": 10
        }
      ]
    },
    {
      "cell_type": "markdown",
      "metadata": {
        "id": "rVzZwoly5VGP"
      },
      "source": [
        "###**Genre Information:**\n",
        "\n",
        "**Movie: The Post**\n",
        "\n",
        "IMDB Rating = 7.2, Biography = Yes, Drama = Yes, Thriller = No, Comdey = No, Crime = No, Mystery = No, History = Yes"
      ]
    },
    {
      "cell_type": "code",
      "metadata": {
        "colab": {
          "base_uri": "https://localhost:8080/"
        },
        "id": "CaxaoMIS6IVp",
        "outputId": "9b297921-a8c0-4d60-c2d3-e5f50e2a36b2"
      },
      "source": [
        "#Making a recommendation based on movie title \"The Post\"\n",
        "the_post = [7.2,1,1,0,0,0,0,1]\n",
        "\n",
        "distance, indices = knn.kneighbors([the_post])\n",
        "print(indices)"
      ],
      "execution_count": 14,
      "outputs": [
        {
          "output_type": "stream",
          "text": [
            "[[28 27 29 16  2]]\n"
          ],
          "name": "stdout"
        }
      ]
    },
    {
      "cell_type": "code",
      "metadata": {
        "colab": {
          "base_uri": "https://localhost:8080/"
        },
        "id": "kYQGqCxY-V8Z",
        "outputId": "7b35b66b-07ca-4b71-acdd-98a41fb9df4c"
      },
      "source": [
        "#Print movie titles of recommended movies\n",
        "for title in indices:\n",
        "  print(\"Recommended Movies:\")\n",
        "  print(df_movies.iloc[title]['Movie Name'])"
      ],
      "execution_count": 15,
      "outputs": [
        {
          "output_type": "stream",
          "text": [
            "Recommended Movies:\n",
            "28    12 Years a Slave\n",
            "27       Hacksaw Ridge\n",
            "29      Queen of Katwe\n",
            "16      The Wind Rises\n",
            "2     A Beautiful Mind\n",
            "Name: Movie Name, dtype: object\n"
          ],
          "name": "stdout"
        }
      ]
    },
    {
      "cell_type": "markdown",
      "metadata": {
        "id": "cNOVY0ro6NBr"
      },
      "source": [
        "###Automation of Recommendation System"
      ]
    },
    {
      "cell_type": "code",
      "metadata": {
        "id": "wk7EXPKQdhuU"
      },
      "source": [
        "#Input \"The Post\" data into the df_movies dataframe\n",
        "df_movies.loc[len(df_movies.index)] = [88, 'The Post', 7.2, 1,1,0,0,0,0,1]\n",
        "\n",
        "#View the dataframe to see that \"The Post\" has been added as a new record\n",
        "df_movies"
      ],
      "execution_count": null,
      "outputs": []
    },
    {
      "cell_type": "code",
      "metadata": {
        "id": "NjXSFmC1_d57"
      },
      "source": [
        "#Define function for making recomendations\n",
        "def recommendations (movie_title):\n",
        "\n",
        "#Set feature variables as 'x' and class variable as 'y'\n",
        "  x = df_movies[['IMDB Rating', 'Biography', 'Drama','Thriller', 'Comedy', 'Crime', 'Mystery', 'History']]\n",
        "  y = df_movies['Movie Name']\n",
        "\n",
        "#Use Nearest Neightbors and fit the model\n",
        "  knn = NearestNeighbors(n_neighbors=5)\n",
        "  knn.fit(x,y)\n",
        "\n",
        "  movie_slice = df_movies.loc[df_movies['Movie Name']== movie_title]\n",
        "\n",
        "  movie_info = movie_slice[['IMDB Rating', 'Biography', 'Drama','Thriller', 'Comedy', 'Crime', 'Mystery', 'History']].values.tolist()\n",
        "\n",
        "  distance, indices = knn.kneighbors([movie_info[0]])\n",
        "\n",
        "#get the 5 movie recommendations based on movie title input\n",
        "  for title in indices:\n",
        "      five_similar_movies = df_movies.iloc[title]['Movie Name']\n",
        "\n",
        "\n",
        "  return print(f\"Recommended Movies:\\n{five_similar_movies[1:]}\")\n"
      ],
      "execution_count": 54,
      "outputs": []
    },
    {
      "cell_type": "code",
      "metadata": {
        "colab": {
          "base_uri": "https://localhost:8080/"
        },
        "id": "c8bo23o-Cpao",
        "outputId": "d8cb8854-a02f-4dec-ce61-d34b4093310a"
      },
      "source": [
        "#use function to return the 5 recommendations based on \"the post\"\n",
        "recommendations('The Post')"
      ],
      "execution_count": 55,
      "outputs": [
        {
          "output_type": "stream",
          "text": [
            "Recommended Movies:\n",
            "28    12 Years a Slave\n",
            "27       Hacksaw Ridge\n",
            "29      Queen of Katwe\n",
            "16      The Wind Rises\n",
            "Name: Movie Name, dtype: object\n"
          ],
          "name": "stdout"
        }
      ]
    }
  ]
}